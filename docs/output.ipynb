{
    "cells": [
        {
            "cell_type": "markdown",
            "metadata": {
                "scrolled": true,
                "slideshow": {
                    "slide_type": "slide"
                }
            },
            "source": [
                "# Test input"
            ]
        },
        {
            "cell_type": "markdown",
            "metadata": {
                "scrolled": true,
                "slideshow": {
                    "slide_type": "subslide"
                }
            },
            "source": [
                "## First slide\n",
                "\n",
                "* Bullet point"
            ]
        },
        {
            "cell_type": "code",
            "metadata": {
                "scrolled": true,
                "slideshow": {
                    "slide_type": "-"
                }
            },
            "source": [
                "def example_function():\n",
                "    print('foo')"
            ],
            "outputs": [],
            "execution_count": null
        },
        {
            "cell_type": "markdown",
            "metadata": {
                "scrolled": true,
                "slideshow": {
                    "slide_type": "subslide"
                }
            },
            "source": [
                "## Second slide"
            ]
        },
        {
            "cell_type": "code",
            "metadata": {
                "scrolled": true,
                "slideshow": {
                    "slide_type": "-"
                }
            },
            "source": [
                "example_function()"
            ],
            "outputs": [],
            "execution_count": null
        }
    ],
    "metadata": {
        "celltoolbar": "Slideshow",
        "kernelspec": {
            "display_name": "Python 3",
            "language": "python",
            "name": "python3"
        },
        "language_info": {
            "codemirror_mode": {
                "name": "ipython",
                "version": 3
            },
            "file_extension": ".py",
            "mimetype": "text/x-python",
            "name": "python",
            "nbconvert_exporter": "python",
            "pygments_lexer": "ipython3",
            "version": "3.6.5"
        },
        "livereveal": {
            "autolaunch": true
        }
    },
    "nbformat": 4,
    "nbformat_minor": 2
}